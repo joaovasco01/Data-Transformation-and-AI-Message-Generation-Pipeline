{
 "cells": [
  {
   "cell_type": "code",
   "execution_count": 1,
   "metadata": {},
   "outputs": [],
   "source": [
    "from message.config import get_settings\n",
    "from message.data import get_features\n",
    "from message.model import ChatModel"
   ]
  },
  {
   "cell_type": "code",
   "execution_count": 2,
   "metadata": {},
   "outputs": [
    {
     "data": {
      "text/plain": [
       "[{'session_group': '++//wixk6DpH8NMGvqLqvpzWbzY=',\n",
       "  'therapy_name': 'shoulder',\n",
       "  'patient_name': 'Cory Montoya',\n",
       "  'patient_age': 61,\n",
       "  'patient_city': 'Angelaville',\n",
       "  'session_is_nok': 1,\n",
       "  'pain': 6.0,\n",
       "  'fatigue': 4.0,\n",
       "  'quality': 4.0,\n",
       "  'quality_reason_movement_detection': 0,\n",
       "  'quality_reason_my_self_personal': 0,\n",
       "  'quality_reason_other': 1,\n",
       "  'quality_reason_exercises': 1,\n",
       "  'quality_reason_tablet_and_or_motion_trackers': 0,\n",
       "  'quality_reason_easy_of_use': 1,\n",
       "  'quality_reason_tablet': 0,\n",
       "  'quality_reason_session_speed': 1,\n",
       "  'leave_session': None,\n",
       "  'leave_exercise_unable_perform': 0,\n",
       "  'leave_exercise_tired': 0,\n",
       "  'leave_exercise_fatigue': 0,\n",
       "  'leave_exercise_system_problem': 0,\n",
       "  'leave_exercise_other': 0,\n",
       "  'leave_exercise_pain': 0,\n",
       "  'leave_exercise_technical_issues': 0,\n",
       "  'leave_exercise_difficulty': 0,\n",
       "  'prescribed_repeats': 96,\n",
       "  'training_time': 356,\n",
       "  'perc_correct_repeats': 0.0,\n",
       "  'number_exercises': 8,\n",
       "  'number_of_distinct_exercises': 8,\n",
       "  'exercise_with_most_incorrect': 'shoulder_abduction',\n",
       "  'first_exercise_skipped': None}]"
      ]
     },
     "execution_count": 2,
     "metadata": {},
     "output_type": "execute_result"
    }
   ],
   "source": [
    "get_features(session_group=\"++//wixk6DpH8NMGvqLqvpzWbzY=\")"
   ]
  },
  {
   "cell_type": "code",
   "execution_count": 3,
   "metadata": {},
   "outputs": [],
   "source": [
    "settings = get_settings()"
   ]
  },
  {
   "cell_type": "code",
   "execution_count": 4,
   "metadata": {},
   "outputs": [],
   "source": [
    "chat_model = ChatModel()"
   ]
  },
  {
   "cell_type": "code",
   "execution_count": 5,
   "metadata": {},
   "outputs": [],
   "source": [
    "message = chat_model.get_completion(\n",
    "    temperature=0,\n",
    "    model=\"gpt-4-turbo-preview\",\n",
    "    messages=[\n",
    "        {\"role\": \"system\", \"content\": \"You are a helpful assistant\"},\n",
    "        {\"role\": \"user\", \"content\": \"Hello!\"},\n",
    "    ],\n",
    ")"
   ]
  },
  {
   "cell_type": "code",
   "execution_count": 6,
   "metadata": {},
   "outputs": [
    {
     "data": {
      "text/plain": [
       "'Hello! How can I assist you today?'"
      ]
     },
     "execution_count": 6,
     "metadata": {},
     "output_type": "execute_result"
    }
   ],
   "source": [
    "message"
   ]
  }
 ],
 "metadata": {
  "kernelspec": {
   "display_name": "venv",
   "language": "python",
   "name": "python3"
  },
  "language_info": {
   "codemirror_mode": {
    "name": "ipython",
    "version": 3
   },
   "file_extension": ".py",
   "mimetype": "text/x-python",
   "name": "python",
   "nbconvert_exporter": "python",
   "pygments_lexer": "ipython3",
   "version": "3.8.18"
  }
 },
 "nbformat": 4,
 "nbformat_minor": 2
}
