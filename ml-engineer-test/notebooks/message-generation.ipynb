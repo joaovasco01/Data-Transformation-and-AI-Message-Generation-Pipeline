{
 "cells": [
  {
   "cell_type": "markdown",
   "metadata": {},
   "source": [
    "This notebook configures SSL certificates using `certifi` to ensure secure HTTPS requests.  \n",
    "It uses `asyncio` for asynchronous execution and fetches an AI-generated message using  \n",
    "`get_message` from the `message.main` module. The generated message is then printed. "
   ]
  },
  {
   "cell_type": "code",
   "execution_count": 2,
   "metadata": {},
   "outputs": [
    {
     "name": "stdout",
     "output_type": "stream",
     "text": [
      "🎯 AI-Generated Message:\n",
      " Hey Taylor,\n",
      "\n",
      "Way to power through session #6! 🌟 It's awesome to see you committed to improving your shoulder movement.\n",
      "\n",
      "Noticing you had a bit of a tough time with the shoulder abduction exercise. It's totally normal to find some movements more challenging, especially when dealing with discomfort. Remember, it's all about taking it step by step.\n",
      "\n",
      "Given the pain you've experienced, it's really important to listen to your body and adjust as needed. We can explore some modifications to make that particular exercise more comfortable for you.\n",
      "\n",
      "Your overall quality rating is pretty solid, which means you're definitely on the right track. Keep up the great work!\n",
      "\n",
      "How are you feeling about your progress so far?\n"
     ]
    }
   ],
   "source": [
    "import os, certifi # type: ignore\n",
    "os.environ[\"SSL_CERT_FILE\"] = certifi.where()\n",
    "\n",
    "import asyncio\n",
    "from message.main import get_message\n",
    "\n",
    "generated_message = await get_message(\"++//wixk6DpH8NMGvqLqvpzWbzY=\")  \n",
    "print(\"🎯 AI-Generated Message:\\n\", generated_message)\n"
   ]
  }
 ],
 "metadata": {
  "kernelspec": {
   "display_name": "venv",
   "language": "python",
   "name": "python3"
  },
  "language_info": {
   "codemirror_mode": {
    "name": "ipython",
    "version": 3
   },
   "file_extension": ".py",
   "mimetype": "text/x-python",
   "name": "python",
   "nbconvert_exporter": "python",
   "pygments_lexer": "ipython3",
   "version": "3.8.0"
  }
 },
 "nbformat": 4,
 "nbformat_minor": 2
}
