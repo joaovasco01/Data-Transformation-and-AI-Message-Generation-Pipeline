{
 "cells": [
  {
   "cell_type": "markdown",
   "metadata": {},
   "source": [
    "This notebook configures SSL certificates using `certifi` to ensure secure HTTPS requests.  \n",
    "It uses `asyncio` for asynchronous execution and fetches an AI-generated message using  \n",
    "`get_message` from the `message.main` module. The generated message is then printed.\n",
    "\n",
    "Below, you have a method to test message generation using two different session groups: `the first with a non-OK` session and the `second with an OK session`."
   ]
  },
  {
   "cell_type": "code",
   "execution_count": 2,
   "metadata": {},
   "outputs": [
    {
     "name": "stdout",
     "output_type": "stream",
     "text": [
      "🎯 Session NOK AI-Generated Message:\n",
      " Hey Taylor,\n",
      "\n",
      "Great job finishing your shoulder session #6! 🌟 You nailed those 8 exercises, which is fantastic. I see the shoulder abduction gave you a bit of a challenge. That's totally okay; those movements can be tough, especially as we're building up strength and flexibility.\n",
      "\n",
      "Noticing your pain at a 6 and fatigue at a 4, it sounds like you're pushing through, but let's keep an eye on that. We want to ensure we're challenging ourselves without overdoing it. Your overall quality rating is solid, so you're definitely on the right track!\n",
      "\n",
      "Given the struggle with shoulder abduction, let's focus on technique next time. Sometimes, a slight adjustment can make a big difference in how an exercise feels. Remember, it's all part of the process.\n",
      "\n",
      "How do you feel about your session today?\n"
     ]
    }
   ],
   "source": [
    "import os, certifi # type: ignore\n",
    "os.environ[\"SSL_CERT_FILE\"] = certifi.where()\n",
    "\n",
    "import asyncio\n",
    "from message.main import get_message\n",
    "\n",
    "generated_message = await get_message(\"++//wixk6DpH8NMGvqLqvpzWbzY=\")  \n",
    "print(\"🎯 Session NOK AI-Generated Message:\\n\", generated_message)"
   ]
  },
  {
   "cell_type": "code",
   "execution_count": 3,
   "metadata": {},
   "outputs": [
    {
     "name": "stdout",
     "output_type": "stream",
     "text": [
      "🎯 Session OK AI-Generated Message:\n",
      " Hey Michael,\n",
      "\n",
      "Wow, session #166 under your belt - that's incredible! Your dedication is truly paying off, and those numbers are looking sharp. 🌟 With such high accuracy, you're really mastering the movements, and it's great to see your pain and fatigue levels staying low. That's a sweet spot you want to maintain.\n",
      "\n",
      "Staying consistent is key, and you're nailing it. Each session builds on the last, and you're proving just how much progress can be made with steady effort.\n",
      "\n",
      "I'm curious, what's been the most rewarding part of this journey for you so far?\n"
     ]
    }
   ],
   "source": [
    "import os, certifi # type: ignore\n",
    "os.environ[\"SSL_CERT_FILE\"] = certifi.where()\n",
    "\n",
    "import asyncio\n",
    "from message.main import get_message\n",
    "\n",
    "generated_message = await get_message(\"pTxNzYvQu7dF+SSTQuGRcQxnLpw=\")  \n",
    "print(\"🎯 Session OK AI-Generated Message:\\n\", generated_message)"
   ]
  }
 ],
 "metadata": {
  "kernelspec": {
   "display_name": "venv",
   "language": "python",
   "name": "python3"
  },
  "language_info": {
   "codemirror_mode": {
    "name": "ipython",
    "version": 3
   },
   "file_extension": ".py",
   "mimetype": "text/x-python",
   "name": "python",
   "nbconvert_exporter": "python",
   "pygments_lexer": "ipython3",
   "version": "3.8.0"
  }
 },
 "nbformat": 4,
 "nbformat_minor": 2
}
