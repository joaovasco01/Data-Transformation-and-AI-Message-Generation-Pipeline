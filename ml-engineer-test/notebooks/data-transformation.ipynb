{
 "cells": [
  {
   "cell_type": "code",
   "execution_count": 1,
   "metadata": {},
   "outputs": [
    {
     "name": "stdout",
     "output_type": "stream",
     "text": [
      "Columns with differences: ['exercise_with_most_incorrect']\n"
     ]
    }
   ],
   "source": [
    "import pandas as pd\n",
    "\n",
    "# Load the parquet files\n",
    "df_expected = pd.read_parquet(\"../data/features_expected.parquet\")\n",
    "df_actual = pd.read_parquet(\"../data/features.parquet\")\n",
    "\n",
    "\n",
    "# Ensure both DataFrames are compared based on 'session_group'\n",
    "common_session_groups = set(df_expected[\"session_group\"]).intersection(set(df_actual[\"session_group\"]))\n",
    "df_expected = df_expected[df_expected[\"session_group\"].isin(common_session_groups)]\n",
    "df_actual = df_actual[df_actual[\"session_group\"].isin(common_session_groups)]\n",
    "\n",
    "# Get the common columns\n",
    "common_columns = df_expected.columns.intersection(df_actual.columns).tolist()\n",
    "\n",
    "# Store columns that have differences\n",
    "differing_columns = []\n",
    "\n",
    "# Set 'session_group' as index for proper alignment\n",
    "df_expected.set_index(\"session_group\", inplace=True)\n",
    "df_actual.set_index(\"session_group\", inplace=True)\n",
    "\n",
    "# Sort index to ensure proper comparison\n",
    "df_expected = df_expected.sort_index()\n",
    "df_actual = df_actual.sort_index()\n",
    "\n",
    "for column in common_columns:\n",
    "    if column == \"session_group\":\n",
    "        continue  # Skip 'session_group' as it's used for alignment\n",
    "    # Set 'session_group' as index for proper alignment\n",
    "\n",
    "    # Compare columns, treating NaNs as equal\n",
    "    col_diff = df_expected[column].compare(df_actual[column], keep_equal=False)\n",
    "\n",
    "    # Remove rows where both values are NaN (i.e., no real difference)\n",
    "    col_diff = col_diff.dropna(how=\"all\")\n",
    "\n",
    "    # If there are any differences left, add column to the differing list\n",
    "    if not col_diff.empty:\n",
    "        differing_columns.append(column)\n",
    "\n",
    "# Print the columns that differ\n",
    "if differing_columns:\n",
    "    print(\"Columns with differences:\", differing_columns)\n",
    "else:\n",
    "    print(\"No differences found.\")\n"
   ]
  },
  {
   "cell_type": "markdown",
   "metadata": {},
   "source": [
    "## Checking which columns are different from `features_expected` and `features`\n",
    "\n",
    "---\n",
    "\n",
    "## Now checking which values are different among `exercise_with_most_incorrect`\n"
   ]
  },
  {
   "cell_type": "code",
   "execution_count": 2,
   "metadata": {},
   "outputs": [
    {
     "name": "stdout",
     "output_type": "stream",
     "text": [
      "Differences found:\n",
      "                                         exercise_with_most_incorrect  \\\n",
      "                                                                 self   \n",
      "session_group                                                           \n",
      "+/9DagqFxJB3+7WXtioOCZHmVUY=                            hip_abduction   \n",
      "+/oBodC3e9COxDB/LWXxNCEx2/I=                            forward_lunge   \n",
      "+091K2IyXQRGBMBQHElnRGEkyGM=    side_lying_shoulder_external_rotation   \n",
      "+1g7QpKh/q6lfmLwWgWZiddWxR8=  shoulder_external_rotation_in_abduction   \n",
      "+28CdQftxgOhTmkVxc1QUrxHcA0=                       hip_hyperextension   \n",
      "...                                                               ...   \n",
      "zwiQ3nDFF8z2S0q3x5ExMrKD/as=                            hip_abduction   \n",
      "zwrgqLwVifFhixG6KAuvzdrSpi8=  shoulder_external_rotation_in_abduction   \n",
      "zxOO41nbo6BT/dyWbF3hB9x73sQ=  shoulder_external_rotation_in_abduction   \n",
      "zyhke8c2FKk621AsbLPkAQDbnIs=            hip_flexion_with_knee_bending   \n",
      "zzwyhOME0/jCt/TlocGDlnM7Nx4=                       diagonal_1_flexion   \n",
      "\n",
      "                                                                     \n",
      "                                                              other  \n",
      "session_group                                                        \n",
      "+/9DagqFxJB3+7WXtioOCZHmVUY=                     hip_hyperextension  \n",
      "+/oBodC3e9COxDB/LWXxNCEx2/I=                           stand_to_sit  \n",
      "+091K2IyXQRGBMBQHElnRGEkyGM=          shoulder_horizontal_abduction  \n",
      "+1g7QpKh/q6lfmLwWgWZiddWxR8=                           standing_row  \n",
      "+28CdQftxgOhTmkVxc1QUrxHcA0=                          hip_abduction  \n",
      "...                                                             ...  \n",
      "zwiQ3nDFF8z2S0q3x5ExMrKD/as=                                  squat  \n",
      "zwrgqLwVifFhixG6KAuvzdrSpi8=  side_lying_shoulder_external_rotation  \n",
      "zxOO41nbo6BT/dyWbF3hB9x73sQ=          shoulder_horizontal_abduction  \n",
      "zyhke8c2FKk621AsbLPkAQDbnIs=                     hip_hyperextension  \n",
      "zzwyhOME0/jCt/TlocGDlnM7Nx4=                           standing_row  \n",
      "\n",
      "[4446 rows x 2 columns]\n"
     ]
    }
   ],
   "source": [
    "import pandas as pd\n",
    "\n",
    "# Load the parquet files\n",
    "df_expected = pd.read_parquet(\"../data/features_expected.parquet\")\n",
    "df_actual = pd.read_parquet(\"../data/features.parquet\")\n",
    "\n",
    "# Ensure both DataFrames are compared based on 'session_group'\n",
    "common_session_groups = set(df_expected[\"session_group\"]).intersection(set(df_actual[\"session_group\"]))\n",
    "df_expected = df_expected[df_expected[\"session_group\"].isin(common_session_groups)]\n",
    "df_actual = df_actual[df_actual[\"session_group\"].isin(common_session_groups)]\n",
    "\n",
    "# Ensure 'session_group' remains in the DataFrame before selecting columns\n",
    "diff_columns = [\"session_group\", \"exercise_with_most_incorrect\" ]\n",
    "\n",
    "df_expected = df_expected[diff_columns]\n",
    "df_actual = df_actual[diff_columns]\n",
    "\n",
    "# Set 'session_group' as index for proper alignment\n",
    "df_expected.set_index(\"session_group\", inplace=True)\n",
    "df_actual.set_index(\"session_group\", inplace=True)\n",
    "\n",
    "# Sort index to ensure proper comparison\n",
    "df_expected = df_expected.sort_index()\n",
    "df_actual = df_actual.sort_index()\n",
    "\n",
    "# Ensure both DataFrames have the same index\n",
    "df_expected, df_actual = df_expected.align(df_actual, axis=0, fill_value=None)\n",
    "\n",
    "# Compare selected columns and store differences\n",
    "differences_df = df_expected.compare(df_actual, keep_shape=True, keep_equal=False)\n",
    "\n",
    "# Remove rows where both self and other values are NaN\n",
    "differences_df = differences_df.dropna(how='all')\n",
    "\n",
    "# Display only differing rows\n",
    "if not differences_df.empty:\n",
    "    print(\"Differences found:\")\n",
    "    # Remove rows where all compared columns (except 'session_group') are \"None\"\n",
    "    non_session_columns = [col for col in differences_df.columns.levels[0] if col != \"session_group\"]\n",
    "    differences_df = differences_df[~differences_df[non_session_columns].apply(lambda row: all(row.astype(str) == \"None\"), axis=1)]\n",
    "    print(differences_df)\n",
    "else:\n",
    "    print(\"No differences found.\")\n"
   ]
  }
 ],
 "metadata": {
  "kernelspec": {
   "display_name": "venv",
   "language": "python",
   "name": "python3"
  },
  "language_info": {
   "codemirror_mode": {
    "name": "ipython",
    "version": 3
   },
   "file_extension": ".py",
   "mimetype": "text/x-python",
   "name": "python",
   "nbconvert_exporter": "python",
   "pygments_lexer": "ipython3",
   "version": "3.8.0"
  }
 },
 "nbformat": 4,
 "nbformat_minor": 2
}
